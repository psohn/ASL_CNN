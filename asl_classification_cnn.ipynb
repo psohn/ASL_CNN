{
 "cells": [
  {
   "cell_type": "markdown",
   "metadata": {},
   "source": [
    "# MNIST American Sign Language Alphabet Classification Using CNN\n",
    "\n",
    "The MNIST database for American Sign Language (ASL) contains images of hand signs for the different letters of the alphabet. Our data comes somewhat preprocessed with the original coloured images being scaled down to 28x28 grayscaled images. The pixels of these images were then converted into their 255 code and then put into a csv. In order to predict and correctly classify signs, we can use convoluted neural networks (CNN)."
   ]
  },
  {
   "cell_type": "markdown",
   "metadata": {},
   "source": [
    "## Preprocessing\n",
    "\n",
    "To preprocess the data for use in our CNNs, we first import the data."
   ]
  },
  {
   "cell_type": "code",
   "execution_count": 1,
   "metadata": {},
   "outputs": [],
   "source": [
    "### importing relevant libraries ###\n",
    "\n",
    "import pandas as pd\n",
    "import numpy as np"
   ]
  },
  {
   "cell_type": "code",
   "execution_count": 2,
   "metadata": {},
   "outputs": [],
   "source": [
    "### importing data ###\n",
    "\n",
    "df_train_raw = pd.read_csv('data/sign_mnist_train.csv') # raw train data\n",
    "df_test_raw = pd.read_csv('data/sign_mnist_test.csv') # raw test data"
   ]
  },
  {
   "cell_type": "markdown",
   "metadata": {},
   "source": [
    "Now we look at the data to see how it might need to be preprocessed."
   ]
  },
  {
   "cell_type": "code",
   "execution_count": 3,
   "metadata": {},
   "outputs": [
    {
     "data": {
      "text/html": [
       "<div>\n",
       "<style scoped>\n",
       "    .dataframe tbody tr th:only-of-type {\n",
       "        vertical-align: middle;\n",
       "    }\n",
       "\n",
       "    .dataframe tbody tr th {\n",
       "        vertical-align: top;\n",
       "    }\n",
       "\n",
       "    .dataframe thead th {\n",
       "        text-align: right;\n",
       "    }\n",
       "</style>\n",
       "<table border=\"1\" class=\"dataframe\">\n",
       "  <thead>\n",
       "    <tr style=\"text-align: right;\">\n",
       "      <th></th>\n",
       "      <th>label</th>\n",
       "      <th>pixel1</th>\n",
       "      <th>pixel2</th>\n",
       "      <th>pixel3</th>\n",
       "      <th>pixel4</th>\n",
       "      <th>pixel5</th>\n",
       "      <th>pixel6</th>\n",
       "      <th>pixel7</th>\n",
       "      <th>pixel8</th>\n",
       "      <th>pixel9</th>\n",
       "      <th>...</th>\n",
       "      <th>pixel775</th>\n",
       "      <th>pixel776</th>\n",
       "      <th>pixel777</th>\n",
       "      <th>pixel778</th>\n",
       "      <th>pixel779</th>\n",
       "      <th>pixel780</th>\n",
       "      <th>pixel781</th>\n",
       "      <th>pixel782</th>\n",
       "      <th>pixel783</th>\n",
       "      <th>pixel784</th>\n",
       "    </tr>\n",
       "  </thead>\n",
       "  <tbody>\n",
       "    <tr>\n",
       "      <th>0</th>\n",
       "      <td>3</td>\n",
       "      <td>107</td>\n",
       "      <td>118</td>\n",
       "      <td>127</td>\n",
       "      <td>134</td>\n",
       "      <td>139</td>\n",
       "      <td>143</td>\n",
       "      <td>146</td>\n",
       "      <td>150</td>\n",
       "      <td>153</td>\n",
       "      <td>...</td>\n",
       "      <td>207</td>\n",
       "      <td>207</td>\n",
       "      <td>207</td>\n",
       "      <td>207</td>\n",
       "      <td>206</td>\n",
       "      <td>206</td>\n",
       "      <td>206</td>\n",
       "      <td>204</td>\n",
       "      <td>203</td>\n",
       "      <td>202</td>\n",
       "    </tr>\n",
       "    <tr>\n",
       "      <th>1</th>\n",
       "      <td>6</td>\n",
       "      <td>155</td>\n",
       "      <td>157</td>\n",
       "      <td>156</td>\n",
       "      <td>156</td>\n",
       "      <td>156</td>\n",
       "      <td>157</td>\n",
       "      <td>156</td>\n",
       "      <td>158</td>\n",
       "      <td>158</td>\n",
       "      <td>...</td>\n",
       "      <td>69</td>\n",
       "      <td>149</td>\n",
       "      <td>128</td>\n",
       "      <td>87</td>\n",
       "      <td>94</td>\n",
       "      <td>163</td>\n",
       "      <td>175</td>\n",
       "      <td>103</td>\n",
       "      <td>135</td>\n",
       "      <td>149</td>\n",
       "    </tr>\n",
       "    <tr>\n",
       "      <th>2</th>\n",
       "      <td>2</td>\n",
       "      <td>187</td>\n",
       "      <td>188</td>\n",
       "      <td>188</td>\n",
       "      <td>187</td>\n",
       "      <td>187</td>\n",
       "      <td>186</td>\n",
       "      <td>187</td>\n",
       "      <td>188</td>\n",
       "      <td>187</td>\n",
       "      <td>...</td>\n",
       "      <td>202</td>\n",
       "      <td>201</td>\n",
       "      <td>200</td>\n",
       "      <td>199</td>\n",
       "      <td>198</td>\n",
       "      <td>199</td>\n",
       "      <td>198</td>\n",
       "      <td>195</td>\n",
       "      <td>194</td>\n",
       "      <td>195</td>\n",
       "    </tr>\n",
       "    <tr>\n",
       "      <th>3</th>\n",
       "      <td>2</td>\n",
       "      <td>211</td>\n",
       "      <td>211</td>\n",
       "      <td>212</td>\n",
       "      <td>212</td>\n",
       "      <td>211</td>\n",
       "      <td>210</td>\n",
       "      <td>211</td>\n",
       "      <td>210</td>\n",
       "      <td>210</td>\n",
       "      <td>...</td>\n",
       "      <td>235</td>\n",
       "      <td>234</td>\n",
       "      <td>233</td>\n",
       "      <td>231</td>\n",
       "      <td>230</td>\n",
       "      <td>226</td>\n",
       "      <td>225</td>\n",
       "      <td>222</td>\n",
       "      <td>229</td>\n",
       "      <td>163</td>\n",
       "    </tr>\n",
       "    <tr>\n",
       "      <th>4</th>\n",
       "      <td>13</td>\n",
       "      <td>164</td>\n",
       "      <td>167</td>\n",
       "      <td>170</td>\n",
       "      <td>172</td>\n",
       "      <td>176</td>\n",
       "      <td>179</td>\n",
       "      <td>180</td>\n",
       "      <td>184</td>\n",
       "      <td>185</td>\n",
       "      <td>...</td>\n",
       "      <td>92</td>\n",
       "      <td>105</td>\n",
       "      <td>105</td>\n",
       "      <td>108</td>\n",
       "      <td>133</td>\n",
       "      <td>163</td>\n",
       "      <td>157</td>\n",
       "      <td>163</td>\n",
       "      <td>164</td>\n",
       "      <td>179</td>\n",
       "    </tr>\n",
       "  </tbody>\n",
       "</table>\n",
       "<p>5 rows × 785 columns</p>\n",
       "</div>"
      ],
      "text/plain": [
       "   label  pixel1  pixel2  pixel3  pixel4  pixel5  pixel6  pixel7  pixel8  \\\n",
       "0      3     107     118     127     134     139     143     146     150   \n",
       "1      6     155     157     156     156     156     157     156     158   \n",
       "2      2     187     188     188     187     187     186     187     188   \n",
       "3      2     211     211     212     212     211     210     211     210   \n",
       "4     13     164     167     170     172     176     179     180     184   \n",
       "\n",
       "   pixel9  ...  pixel775  pixel776  pixel777  pixel778  pixel779  pixel780  \\\n",
       "0     153  ...       207       207       207       207       206       206   \n",
       "1     158  ...        69       149       128        87        94       163   \n",
       "2     187  ...       202       201       200       199       198       199   \n",
       "3     210  ...       235       234       233       231       230       226   \n",
       "4     185  ...        92       105       105       108       133       163   \n",
       "\n",
       "   pixel781  pixel782  pixel783  pixel784  \n",
       "0       206       204       203       202  \n",
       "1       175       103       135       149  \n",
       "2       198       195       194       195  \n",
       "3       225       222       229       163  \n",
       "4       157       163       164       179  \n",
       "\n",
       "[5 rows x 785 columns]"
      ]
     },
     "execution_count": 3,
     "metadata": {},
     "output_type": "execute_result"
    }
   ],
   "source": [
    "### looking at train data ###\n",
    "\n",
    "df_train_raw.head()"
   ]
  },
  {
   "cell_type": "code",
   "execution_count": 4,
   "metadata": {},
   "outputs": [
    {
     "data": {
      "text/html": [
       "<div>\n",
       "<style scoped>\n",
       "    .dataframe tbody tr th:only-of-type {\n",
       "        vertical-align: middle;\n",
       "    }\n",
       "\n",
       "    .dataframe tbody tr th {\n",
       "        vertical-align: top;\n",
       "    }\n",
       "\n",
       "    .dataframe thead th {\n",
       "        text-align: right;\n",
       "    }\n",
       "</style>\n",
       "<table border=\"1\" class=\"dataframe\">\n",
       "  <thead>\n",
       "    <tr style=\"text-align: right;\">\n",
       "      <th></th>\n",
       "      <th>label</th>\n",
       "      <th>pixel1</th>\n",
       "      <th>pixel2</th>\n",
       "      <th>pixel3</th>\n",
       "      <th>pixel4</th>\n",
       "      <th>pixel5</th>\n",
       "      <th>pixel6</th>\n",
       "      <th>pixel7</th>\n",
       "      <th>pixel8</th>\n",
       "      <th>pixel9</th>\n",
       "      <th>...</th>\n",
       "      <th>pixel775</th>\n",
       "      <th>pixel776</th>\n",
       "      <th>pixel777</th>\n",
       "      <th>pixel778</th>\n",
       "      <th>pixel779</th>\n",
       "      <th>pixel780</th>\n",
       "      <th>pixel781</th>\n",
       "      <th>pixel782</th>\n",
       "      <th>pixel783</th>\n",
       "      <th>pixel784</th>\n",
       "    </tr>\n",
       "  </thead>\n",
       "  <tbody>\n",
       "    <tr>\n",
       "      <th>0</th>\n",
       "      <td>6</td>\n",
       "      <td>149</td>\n",
       "      <td>149</td>\n",
       "      <td>150</td>\n",
       "      <td>150</td>\n",
       "      <td>150</td>\n",
       "      <td>151</td>\n",
       "      <td>151</td>\n",
       "      <td>150</td>\n",
       "      <td>151</td>\n",
       "      <td>...</td>\n",
       "      <td>138</td>\n",
       "      <td>148</td>\n",
       "      <td>127</td>\n",
       "      <td>89</td>\n",
       "      <td>82</td>\n",
       "      <td>96</td>\n",
       "      <td>106</td>\n",
       "      <td>112</td>\n",
       "      <td>120</td>\n",
       "      <td>107</td>\n",
       "    </tr>\n",
       "    <tr>\n",
       "      <th>1</th>\n",
       "      <td>5</td>\n",
       "      <td>126</td>\n",
       "      <td>128</td>\n",
       "      <td>131</td>\n",
       "      <td>132</td>\n",
       "      <td>133</td>\n",
       "      <td>134</td>\n",
       "      <td>135</td>\n",
       "      <td>135</td>\n",
       "      <td>136</td>\n",
       "      <td>...</td>\n",
       "      <td>47</td>\n",
       "      <td>104</td>\n",
       "      <td>194</td>\n",
       "      <td>183</td>\n",
       "      <td>186</td>\n",
       "      <td>184</td>\n",
       "      <td>184</td>\n",
       "      <td>184</td>\n",
       "      <td>182</td>\n",
       "      <td>180</td>\n",
       "    </tr>\n",
       "    <tr>\n",
       "      <th>2</th>\n",
       "      <td>10</td>\n",
       "      <td>85</td>\n",
       "      <td>88</td>\n",
       "      <td>92</td>\n",
       "      <td>96</td>\n",
       "      <td>105</td>\n",
       "      <td>123</td>\n",
       "      <td>135</td>\n",
       "      <td>143</td>\n",
       "      <td>147</td>\n",
       "      <td>...</td>\n",
       "      <td>68</td>\n",
       "      <td>166</td>\n",
       "      <td>242</td>\n",
       "      <td>227</td>\n",
       "      <td>230</td>\n",
       "      <td>227</td>\n",
       "      <td>226</td>\n",
       "      <td>225</td>\n",
       "      <td>224</td>\n",
       "      <td>222</td>\n",
       "    </tr>\n",
       "    <tr>\n",
       "      <th>3</th>\n",
       "      <td>0</td>\n",
       "      <td>203</td>\n",
       "      <td>205</td>\n",
       "      <td>207</td>\n",
       "      <td>206</td>\n",
       "      <td>207</td>\n",
       "      <td>209</td>\n",
       "      <td>210</td>\n",
       "      <td>209</td>\n",
       "      <td>210</td>\n",
       "      <td>...</td>\n",
       "      <td>154</td>\n",
       "      <td>248</td>\n",
       "      <td>247</td>\n",
       "      <td>248</td>\n",
       "      <td>253</td>\n",
       "      <td>236</td>\n",
       "      <td>230</td>\n",
       "      <td>240</td>\n",
       "      <td>253</td>\n",
       "      <td>255</td>\n",
       "    </tr>\n",
       "    <tr>\n",
       "      <th>4</th>\n",
       "      <td>3</td>\n",
       "      <td>188</td>\n",
       "      <td>191</td>\n",
       "      <td>193</td>\n",
       "      <td>195</td>\n",
       "      <td>199</td>\n",
       "      <td>201</td>\n",
       "      <td>202</td>\n",
       "      <td>203</td>\n",
       "      <td>203</td>\n",
       "      <td>...</td>\n",
       "      <td>26</td>\n",
       "      <td>40</td>\n",
       "      <td>64</td>\n",
       "      <td>48</td>\n",
       "      <td>29</td>\n",
       "      <td>46</td>\n",
       "      <td>49</td>\n",
       "      <td>46</td>\n",
       "      <td>46</td>\n",
       "      <td>53</td>\n",
       "    </tr>\n",
       "  </tbody>\n",
       "</table>\n",
       "<p>5 rows × 785 columns</p>\n",
       "</div>"
      ],
      "text/plain": [
       "   label  pixel1  pixel2  pixel3  pixel4  pixel5  pixel6  pixel7  pixel8  \\\n",
       "0      6     149     149     150     150     150     151     151     150   \n",
       "1      5     126     128     131     132     133     134     135     135   \n",
       "2     10      85      88      92      96     105     123     135     143   \n",
       "3      0     203     205     207     206     207     209     210     209   \n",
       "4      3     188     191     193     195     199     201     202     203   \n",
       "\n",
       "   pixel9  ...  pixel775  pixel776  pixel777  pixel778  pixel779  pixel780  \\\n",
       "0     151  ...       138       148       127        89        82        96   \n",
       "1     136  ...        47       104       194       183       186       184   \n",
       "2     147  ...        68       166       242       227       230       227   \n",
       "3     210  ...       154       248       247       248       253       236   \n",
       "4     203  ...        26        40        64        48        29        46   \n",
       "\n",
       "   pixel781  pixel782  pixel783  pixel784  \n",
       "0       106       112       120       107  \n",
       "1       184       184       182       180  \n",
       "2       226       225       224       222  \n",
       "3       230       240       253       255  \n",
       "4        49        46        46        53  \n",
       "\n",
       "[5 rows x 785 columns]"
      ]
     },
     "execution_count": 4,
     "metadata": {},
     "output_type": "execute_result"
    }
   ],
   "source": [
    "### looking at test data ###\n",
    "\n",
    "df_test_raw.head()"
   ]
  },
  {
   "cell_type": "code",
   "execution_count": 5,
   "metadata": {},
   "outputs": [
    {
     "name": "stdout",
     "output_type": "stream",
     "text": [
      "Train shape is (27455, 785) and test shape is (7172, 785)\n"
     ]
    }
   ],
   "source": [
    "### looking at dataframe shapes ###\n",
    "\n",
    "train_shape = df_train_raw.shape\n",
    "test_shape = df_test_raw.shape\n",
    "\n",
    "print(\"Train shape is\", train_shape, \"and test shape is\", test_shape)"
   ]
  },
  {
   "cell_type": "markdown",
   "metadata": {},
   "source": [
    "We can see that the train and test data have the same features so any preprocessing that we do to one we can do to the other. First we separate the labels since they contain our class information."
   ]
  },
  {
   "cell_type": "code",
   "execution_count": 6,
   "metadata": {},
   "outputs": [],
   "source": [
    "### separating labels ###\n",
    "\n",
    "# labels\n",
    "df_train_y = df_train_raw['label']\n",
    "df_test_y = df_test_raw['label']\n",
    "\n",
    "# dropping labels from original data\n",
    "df_train_raw_X = df_train_raw.drop('label', axis = 1)\n",
    "df_test_raw_X = df_test_raw.drop('label', axis = 1)"
   ]
  },
  {
   "cell_type": "markdown",
   "metadata": {},
   "source": [
    "Now we reshape the features so that it will fit into a CNN and then scale it."
   ]
  },
  {
   "cell_type": "code",
   "execution_count": 7,
   "metadata": {},
   "outputs": [],
   "source": [
    "### reshaping and scaling data ###\n",
    "\n",
    "df_train_X = df_train_raw_X.values.reshape(df_train_raw_X.shape[0], 28, 28, 1) / 255.\n",
    "df_test_X = df_test_raw_X.values.reshape(df_test_raw_X.shape[0], 28, 28, 1) / 255."
   ]
  },
  {
   "cell_type": "markdown",
   "metadata": {},
   "source": [
    "Finally, we have processed data that we can use for our CNN. "
   ]
  },
  {
   "cell_type": "markdown",
   "metadata": {},
   "source": [
    "## Exploratory Data Analysis\n",
    "\n",
    "In our exploratory data analysis (EDA), we check to see how the classes are distributed in the train data. If the train data is skewed towards certain classes, it may be difficult to accurately predict the underrepresented classes since their features might not be accurately extracted."
   ]
  },
  {
   "cell_type": "code",
   "execution_count": 8,
   "metadata": {},
   "outputs": [],
   "source": [
    "### importing libraries ###\n",
    "\n",
    "import matplotlib.pyplot as plt\n",
    "import seaborn as sns"
   ]
  },
  {
   "cell_type": "code",
   "execution_count": 9,
   "metadata": {},
   "outputs": [
    {
     "data": {
      "text/plain": [
       "Text(0.5, 1.0, 'Value Counts of Labels')"
      ]
     },
     "execution_count": 9,
     "metadata": {},
     "output_type": "execute_result"
    },
    {
     "data": {
      "image/png": "[encoded data removed]",
      "text/plain": [
       "<Figure size 432x288 with 1 Axes>"
      ]
     },
     "metadata": {
      "needs_background": "light"
     },
     "output_type": "display_data"
    }
   ],
   "source": [
    "### visualizing labels ###\n",
    "\n",
    "sns.countplot(x = df_train_y)\n",
    "plt.title('Value Counts of Labels')"
   ]
  },
  {
   "cell_type": "markdown",
   "metadata": {},
   "source": [
    "We can see that the classes are relatively well distributed. We can note, however, that there are only 24 classes but the alphabet has 26 letters. This is due to the exclusion of the letters J (class = 9) and Z (class = 25) as they are not static hand gestures. Now let's see what a potential image looks like. "
   ]
  },
  {
   "cell_type": "code",
   "execution_count": 10,
   "metadata": {},
   "outputs": [
    {
     "data": {
      "text/plain": [
       "<matplotlib.image.AxesImage at 0x18b7a171dc8>"
      ]
     },
     "execution_count": 10,
     "metadata": {},
     "output_type": "execute_result"
    },
    {
     "data": {
      "image/png": "[encoded data removed]",
      "text/plain": [
       "<Figure size 432x288 with 1 Axes>"
      ]
     },
     "metadata": {
      "needs_background": "light"
     },
     "output_type": "display_data"
    }
   ],
   "source": [
    "### Visualization of Image ###\n",
    "\n",
    "plt.imshow(df_train_X[42].reshape(28, 28))"
   ]
  },
  {
   "cell_type": "markdown",
   "metadata": {},
   "source": [
    "The image can visibly be seen to be the letter U. We can now proceed to modelling."
   ]
  },
  {
   "cell_type": "markdown",
   "metadata": {},
   "source": [
    "## Modelling\n",
    "\n",
    "Now that our preprocessing and EDA are complete, we can use CNNs to model our data."
   ]
  },
  {
   "cell_type": "code",
   "execution_count": 11,
   "metadata": {},
   "outputs": [
    {
     "name": "stderr",
     "output_type": "stream",
     "text": [
      "Using TensorFlow backend.\n"
     ]
    }
   ],
   "source": [
    "### import libraries ###\n",
    "\n",
    "import keras\n",
    "from keras.wrappers.scikit_learn import KerasClassifier\n",
    "from sklearn.model_selection import cross_val_score\n",
    "from keras.models import Sequential\n",
    "from keras.layers import Dense, Conv2D, Dropout, MaxPooling2D, Flatten\n",
    "from sklearn.metrics import confusion_matrix"
   ]
  },
  {
   "cell_type": "markdown",
   "metadata": {},
   "source": [
    "First we build our classifier."
   ]
  },
  {
   "cell_type": "code",
   "execution_count": 12,
   "metadata": {},
   "outputs": [],
   "source": [
    "### building our CNN classifier ###\n",
    "\n",
    "def build_classifier():\n",
    "    \n",
    "    # classifier\n",
    "    classifier = Sequential()\n",
    "    \n",
    "    # convolution layer and max pooling twice\n",
    "    classifier.add(Conv2D(32, kernel_size = (3, 3), activation = 'relu'))\n",
    "    classifier.add(MaxPooling2D(pool_size = (2, 2)))\n",
    "    \n",
    "    classifier.add(Conv2D(32, kernel_size = (3, 3), activation = 'relu'))\n",
    "    classifier.add(MaxPooling2D(pool_size = (2, 2)))\n",
    "    \n",
    "    # flattening\n",
    "    classifier.add(Flatten())\n",
    "    \n",
    "    # dense layer\n",
    "    classifier.add(Dense(128, activation = 'relu'))\n",
    "    classifier.add(Dropout(0.2)) # dropout\n",
    "    \n",
    "    # output layer\n",
    "    classifier.add(Dense(24, activation = 'softmax'))\n",
    "    \n",
    "    # compilation\n",
    "    classifier.compile(optimizer = 'adam', loss = 'categorical_crossentropy', metrics = ['accuracy'])\n",
    "    \n",
    "    return classifier\n",
    "\n",
    "classifier = KerasClassifier(build_fn = build_classifier, batch_size = 128, epochs = 50)"
   ]
  },
  {
   "cell_type": "markdown",
   "metadata": {},
   "source": [
    "We now hot encode the labels so that we can have an outer layer of 24 while including letter Y and ignoring letter J."
   ]
  },
  {
   "cell_type": "code",
   "execution_count": 13,
   "metadata": {},
   "outputs": [],
   "source": [
    "### dummy variables ###\n",
    "\n",
    "train_y = pd.get_dummies(df_train_y)\n",
    "test_y = pd.get_dummies(df_test_y)"
   ]
  },
  {
   "cell_type": "markdown",
   "metadata": {},
   "source": [
    "Now we can try to fit a model."
   ]
  },
  {
   "cell_type": "code",
   "execution_count": 14,
   "metadata": {},
   "outputs": [
    {
     "name": "stdout",
     "output_type": "stream",
     "text": [
      "Train on 27455 samples, validate on 7172 samples\n",
      "Epoch 1/50\n",
      "27455/27455 [==============================] - 5s 174us/step - loss: 1.8411 - accuracy: 0.4503 - val_loss: 0.9064 - val_accuracy: 0.7111\n",
      "Epoch 2/50\n",
      "27455/27455 [==============================] - 3s 116us/step - loss: 0.5539 - accuracy: 0.8216 - val_loss: 0.5138 - val_accuracy: 0.8210\n",
      "Epoch 3/50\n",
      "27455/27455 [==============================] - 3s 117us/step - loss: 0.2521 - accuracy: 0.9238 - val_loss: 0.3356 - val_accuracy: 0.8992\n",
      "Epoch 4/50\n",
      "27455/27455 [==============================] - 3s 117us/step - loss: 0.1213 - accuracy: 0.9674 - val_loss: 0.3249 - val_accuracy: 0.8893\n",
      "Epoch 5/50\n",
      "27455/27455 [==============================] - 3s 116us/step - loss: 0.0708 - accuracy: 0.9826 - val_loss: 0.2884 - val_accuracy: 0.9110\n",
      "Epoch 6/50\n",
      "27455/27455 [==============================] - 3s 117us/step - loss: 0.0470 - accuracy: 0.9885 - val_loss: 0.2677 - val_accuracy: 0.9226\n",
      "Epoch 7/50\n",
      "27455/27455 [==============================] - 3s 116us/step - loss: 0.0366 - accuracy: 0.9918 - val_loss: 0.2861 - val_accuracy: 0.9140\n",
      "Epoch 8/50\n",
      "27455/27455 [==============================] - 3s 118us/step - loss: 0.0281 - accuracy: 0.9930 - val_loss: 0.2852 - val_accuracy: 0.9276\n",
      "Epoch 9/50\n",
      "27455/27455 [==============================] - 3s 116us/step - loss: 0.0189 - accuracy: 0.9960 - val_loss: 0.2961 - val_accuracy: 0.9254\n",
      "Epoch 10/50\n",
      "27455/27455 [==============================] - 3s 121us/step - loss: 0.0196 - accuracy: 0.9950 - val_loss: 0.3077 - val_accuracy: 0.9265\n",
      "Epoch 11/50\n",
      "27455/27455 [==============================] - 3s 122us/step - loss: 0.0195 - accuracy: 0.9949 - val_loss: 0.3265 - val_accuracy: 0.9250\n",
      "Epoch 12/50\n",
      "27455/27455 [==============================] - 3s 120us/step - loss: 0.0134 - accuracy: 0.9969 - val_loss: 0.3559 - val_accuracy: 0.9142\n",
      "Epoch 13/50\n",
      "27455/27455 [==============================] - 3s 123us/step - loss: 0.0138 - accuracy: 0.9964 - val_loss: 0.3098 - val_accuracy: 0.9236\n",
      "Epoch 14/50\n",
      "27455/27455 [==============================] - 3s 123us/step - loss: 0.0121 - accuracy: 0.9970 - val_loss: 0.3405 - val_accuracy: 0.9172\n",
      "Epoch 15/50\n",
      "27455/27455 [==============================] - 3s 121us/step - loss: 0.0096 - accuracy: 0.9979 - val_loss: 0.3549 - val_accuracy: 0.9292\n",
      "Epoch 16/50\n",
      "27455/27455 [==============================] - 3s 123us/step - loss: 0.0107 - accuracy: 0.9970 - val_loss: 0.3037 - val_accuracy: 0.9261\n",
      "Epoch 17/50\n",
      "27455/27455 [==============================] - 3s 122us/step - loss: 0.0095 - accuracy: 0.9972 - val_loss: 0.2950 - val_accuracy: 0.9218\n",
      "Epoch 18/50\n",
      "27455/27455 [==============================] - 3s 121us/step - loss: 0.0099 - accuracy: 0.9972 - val_loss: 0.4232 - val_accuracy: 0.9200\n",
      "Epoch 19/50\n",
      "27455/27455 [==============================] - 3s 123us/step - loss: 0.0093 - accuracy: 0.9975 - val_loss: 0.3886 - val_accuracy: 0.9169\n",
      "Epoch 20/50\n",
      "27455/27455 [==============================] - 3s 123us/step - loss: 0.0079 - accuracy: 0.9981 - val_loss: 0.3109 - val_accuracy: 0.9315\n",
      "Epoch 21/50\n",
      "27455/27455 [==============================] - 3s 123us/step - loss: 0.0070 - accuracy: 0.9978 - val_loss: 0.3904 - val_accuracy: 0.9176\n",
      "Epoch 22/50\n",
      "27455/27455 [==============================] - 3s 123us/step - loss: 0.0085 - accuracy: 0.9974 - val_loss: 0.4690 - val_accuracy: 0.9198\n",
      "Epoch 23/50\n",
      "27455/27455 [==============================] - 3s 121us/step - loss: 0.0084 - accuracy: 0.9974 - val_loss: 0.4288 - val_accuracy: 0.9169\n",
      "Epoch 24/50\n",
      "27455/27455 [==============================] - 3s 127us/step - loss: 0.0060 - accuracy: 0.9981 - val_loss: 0.3989 - val_accuracy: 0.9134\n",
      "Epoch 25/50\n",
      "27455/27455 [==============================] - 4s 129us/step - loss: 0.0072 - accuracy: 0.9980 - val_loss: 0.4018 - val_accuracy: 0.9170\n",
      "Epoch 26/50\n",
      "27455/27455 [==============================] - 4s 131us/step - loss: 0.0085 - accuracy: 0.9976 - val_loss: 0.3659 - val_accuracy: 0.9299\n",
      "Epoch 27/50\n",
      "27455/27455 [==============================] - 4s 130us/step - loss: 0.0087 - accuracy: 0.9973 - val_loss: 0.3395 - val_accuracy: 0.9264\n",
      "Epoch 28/50\n",
      "27455/27455 [==============================] - 4s 128us/step - loss: 0.0055 - accuracy: 0.9985 - val_loss: 0.4419 - val_accuracy: 0.9297\n",
      "Epoch 29/50\n",
      "27455/27455 [==============================] - 3s 126us/step - loss: 0.0049 - accuracy: 0.9986 - val_loss: 0.4598 - val_accuracy: 0.9201\n",
      "Epoch 30/50\n",
      "27455/27455 [==============================] - 3s 125us/step - loss: 0.0039 - accuracy: 0.9988 - val_loss: 0.4865 - val_accuracy: 0.9288\n",
      "Epoch 31/50\n",
      "27455/27455 [==============================] - 3s 125us/step - loss: 0.0077 - accuracy: 0.9975 - val_loss: 0.4288 - val_accuracy: 0.9327\n",
      "Epoch 32/50\n",
      "27455/27455 [==============================] - 3s 123us/step - loss: 0.0078 - accuracy: 0.9974 - val_loss: 0.3836 - val_accuracy: 0.9293\n",
      "Epoch 33/50\n",
      "27455/27455 [==============================] - 3s 125us/step - loss: 0.0055 - accuracy: 0.9983 - val_loss: 0.3889 - val_accuracy: 0.9251\n",
      "Epoch 34/50\n",
      "27455/27455 [==============================] - 3s 126us/step - loss: 0.0043 - accuracy: 0.9988 - val_loss: 0.3624 - val_accuracy: 0.9289\n",
      "Epoch 35/50\n",
      "27455/27455 [==============================] - 3s 124us/step - loss: 0.0028 - accuracy: 0.9992 - val_loss: 0.4710 - val_accuracy: 0.9264\n",
      "Epoch 36/50\n",
      "27455/27455 [==============================] - 3s 126us/step - loss: 0.0043 - accuracy: 0.9985 - val_loss: 0.3564 - val_accuracy: 0.9368\n",
      "Epoch 37/50\n",
      "27455/27455 [==============================] - 3s 124us/step - loss: 0.0040 - accuracy: 0.9991 - val_loss: 0.4383 - val_accuracy: 0.9264\n",
      "Epoch 38/50\n",
      "27455/27455 [==============================] - 3s 124us/step - loss: 0.0032 - accuracy: 0.9991 - val_loss: 0.4787 - val_accuracy: 0.9301\n",
      "Epoch 39/50\n",
      "27455/27455 [==============================] - 4s 130us/step - loss: 0.0036 - accuracy: 0.9990 - val_loss: 0.4489 - val_accuracy: 0.9219\n",
      "Epoch 40/50\n",
      "27455/27455 [==============================] - 3s 126us/step - loss: 0.0028 - accuracy: 0.9992 - val_loss: 0.5742 - val_accuracy: 0.9123\n",
      "Epoch 41/50\n",
      "27455/27455 [==============================] - 3s 126us/step - loss: 0.0055 - accuracy: 0.9981 - val_loss: 0.5795 - val_accuracy: 0.9176\n",
      "Epoch 42/50\n",
      "27455/27455 [==============================] - 3s 127us/step - loss: 0.0048 - accuracy: 0.9988 - val_loss: 0.5596 - val_accuracy: 0.9120\n",
      "Epoch 43/50\n",
      "27455/27455 [==============================] - 4s 128us/step - loss: 0.0036 - accuracy: 0.9989 - val_loss: 0.4262 - val_accuracy: 0.9288\n",
      "Epoch 44/50\n",
      "27455/27455 [==============================] - 3s 124us/step - loss: 0.0049 - accuracy: 0.9987 - val_loss: 0.4208 - val_accuracy: 0.9248\n",
      "Epoch 45/50\n",
      "27455/27455 [==============================] - 4s 128us/step - loss: 0.0028 - accuracy: 0.9990 - val_loss: 0.4819 - val_accuracy: 0.9272\n",
      "Epoch 46/50\n",
      "27455/27455 [==============================] - 3s 127us/step - loss: 0.0036 - accuracy: 0.9988 - val_loss: 0.3801 - val_accuracy: 0.9327\n",
      "Epoch 47/50\n",
      "27455/27455 [==============================] - 3s 125us/step - loss: 0.0038 - accuracy: 0.9989 - val_loss: 0.4760 - val_accuracy: 0.9278\n",
      "Epoch 48/50\n",
      "27455/27455 [==============================] - 3s 127us/step - loss: 0.0068 - accuracy: 0.9978 - val_loss: 0.4863 - val_accuracy: 0.9258\n",
      "Epoch 49/50\n",
      "27455/27455 [==============================] - 3s 126us/step - loss: 0.0037 - accuracy: 0.9988 - val_loss: 0.3974 - val_accuracy: 0.9327\n",
      "Epoch 50/50\n",
      "27455/27455 [==============================] - 3s 127us/step - loss: 0.0025 - accuracy: 0.9992 - val_loss: 0.4762 - val_accuracy: 0.9276\n"
     ]
    }
   ],
   "source": [
    "### fitting a model ###\n",
    "\n",
    "history = classifier.fit(df_train_X, train_y, validation_data = (df_test_X, test_y))"
   ]
  },
  {
   "cell_type": "markdown",
   "metadata": {},
   "source": [
    "Now we plot the loss of the train and test set as a function of epochs."
   ]
  },
  {
   "cell_type": "code",
   "execution_count": 15,
   "metadata": {},
   "outputs": [
    {
     "data": {
      "text/plain": [
       "<matplotlib.legend.Legend at 0x18b52a40bc8>"
      ]
     },
     "execution_count": 15,
     "metadata": {},
     "output_type": "execute_result"
    },
    {
     "data": {
      "image/png": "[encoded data removed]",
      "text/plain": [
       "<Figure size 432x288 with 1 Axes>"
      ]
     },
     "metadata": {
      "needs_background": "light"
     },
     "output_type": "display_data"
    }
   ],
   "source": [
    "### plotting loss ###\n",
    "\n",
    "plt.plot(history.history['loss'])\n",
    "plt.plot(history.history['val_loss'])\n",
    "plt.title('Model Loss')\n",
    "plt.xlabel('Epochs')\n",
    "plt.ylabel('Loss')\n",
    "plt.legend(['Train', 'Test'], loc = 'upper right')"
   ]
  },
  {
   "cell_type": "markdown",
   "metadata": {},
   "source": [
    "We can see that the model learns the training set quite quickly with a low number of epochs. However, the train loss fluctuates after about epoch = 5 which may be due to overtraining since only a low number of epochs is needed. As a result, we will fit the model to a low number of epochs."
   ]
  },
  {
   "cell_type": "code",
   "execution_count": 16,
   "metadata": {},
   "outputs": [
    {
     "name": "stdout",
     "output_type": "stream",
     "text": [
      "Train on 27455 samples, validate on 7172 samples\n",
      "Epoch 1/5\n",
      "27455/27455 [==============================] - 4s 131us/step - loss: 1.8741 - accuracy: 0.4404 - val_loss: 0.9280 - val_accuracy: 0.7129\n",
      "Epoch 2/5\n",
      "27455/27455 [==============================] - 3s 127us/step - loss: 0.5469 - accuracy: 0.8285 - val_loss: 0.5035 - val_accuracy: 0.8296\n",
      "Epoch 3/5\n",
      "27455/27455 [==============================] - 3s 127us/step - loss: 0.2442 - accuracy: 0.9277 - val_loss: 0.3358 - val_accuracy: 0.8982\n",
      "Epoch 4/5\n",
      "27455/27455 [==============================] - 3s 125us/step - loss: 0.1199 - accuracy: 0.9675 - val_loss: 0.2885 - val_accuracy: 0.9225\n",
      "Epoch 5/5\n",
      "27455/27455 [==============================] - 3s 127us/step - loss: 0.0684 - accuracy: 0.9833 - val_loss: 0.2277 - val_accuracy: 0.9318\n"
     ]
    },
    {
     "data": {
      "text/plain": [
       "<keras.callbacks.callbacks.History at 0x18b7ef4c308>"
      ]
     },
     "execution_count": 16,
     "metadata": {},
     "output_type": "execute_result"
    }
   ],
   "source": [
    "### fitting new model ###\n",
    "\n",
    "classifier = KerasClassifier(build_fn = build_classifier, batch_size = 128, epochs = 5)\n",
    "classifier.fit(df_train_X, train_y, validation_data = (df_test_X, test_y))"
   ]
  },
  {
   "cell_type": "markdown",
   "metadata": {},
   "source": [
    "Now that we have our new model, we will use cross validation to see if what we are getting is an accurate representation."
   ]
  },
  {
   "cell_type": "code",
   "execution_count": 17,
   "metadata": {},
   "outputs": [
    {
     "name": "stdout",
     "output_type": "stream",
     "text": [
      "Epoch 1/5\n",
      "24709/24709 [==============================] - 3s 111us/step - loss: 2.1784 - accuracy: 0.3546\n",
      "Epoch 2/5\n",
      "24709/24709 [==============================] - 2s 101us/step - loss: 0.7438 - accuracy: 0.7594\n",
      "Epoch 3/5\n",
      "24709/24709 [==============================] - 2s 100us/step - loss: 0.3647 - accuracy: 0.8828\n",
      "Epoch 4/5\n",
      "24709/24709 [==============================] - 2s 101us/step - loss: 0.1949 - accuracy: 0.9434\n",
      "Epoch 5/5\n",
      "24709/24709 [==============================] - 2s 100us/step - loss: 0.1164 - accuracy: 0.9674\n",
      "2746/2746 [==============================] - 0s 84us/step\n",
      "Epoch 1/5\n",
      "24709/24709 [==============================] - 3s 106us/step - loss: 1.9126 - accuracy: 0.4287\n",
      "Epoch 2/5\n",
      "24709/24709 [==============================] - 2s 100us/step - loss: 0.5831 - accuracy: 0.8165\n",
      "Epoch 3/5\n",
      "24709/24709 [==============================] - 3s 102us/step - loss: 0.2691 - accuracy: 0.9202\n",
      "Epoch 4/5\n",
      "24709/24709 [==============================] - 2s 100us/step - loss: 0.1344 - accuracy: 0.9621\n",
      "Epoch 5/5\n",
      "24709/24709 [==============================] - 2s 101us/step - loss: 0.0758 - accuracy: 0.9816\n",
      "2746/2746 [==============================] - 0s 59us/step\n",
      "Epoch 1/5\n",
      "24709/24709 [==============================] - 3s 108us/step - loss: 1.9524 - accuracy: 0.4194\n",
      "Epoch 2/5\n",
      "24709/24709 [==============================] - 2s 100us/step - loss: 0.5719 - accuracy: 0.8204\n",
      "Epoch 3/5\n",
      "24709/24709 [==============================] - 3s 102us/step - loss: 0.2665 - accuracy: 0.9187\n",
      "Epoch 4/5\n",
      "24709/24709 [==============================] - 3s 105us/step - loss: 0.1340 - accuracy: 0.9635\n",
      "Epoch 5/5\n",
      "24709/24709 [==============================] - 3s 104us/step - loss: 0.0828 - accuracy: 0.9786\n",
      "2746/2746 [==============================] - 0s 74us/step\n",
      "Epoch 1/5\n",
      "24709/24709 [==============================] - 3s 109us/step - loss: 1.8948 - accuracy: 0.4412\n",
      "Epoch 2/5\n",
      "24709/24709 [==============================] - 3s 103us/step - loss: 0.5506 - accuracy: 0.8244\n",
      "Epoch 3/5\n",
      "24709/24709 [==============================] - 2s 101us/step - loss: 0.2590 - accuracy: 0.9212\n",
      "Epoch 4/5\n",
      "24709/24709 [==============================] - 3s 102us/step - loss: 0.1296 - accuracy: 0.9655\n",
      "Epoch 5/5\n",
      "24709/24709 [==============================] - 3s 102us/step - loss: 0.0784 - accuracy: 0.9802\n",
      "2746/2746 [==============================] - 0s 63us/step\n",
      "Epoch 1/5\n",
      "24709/24709 [==============================] - 3s 108us/step - loss: 1.7992 - accuracy: 0.4691\n",
      "Epoch 2/5\n",
      "24709/24709 [==============================] - 2s 100us/step - loss: 0.5050 - accuracy: 0.8449\n",
      "Epoch 3/5\n",
      "24709/24709 [==============================] - 3s 103us/step - loss: 0.2265 - accuracy: 0.9333\n",
      "Epoch 4/5\n",
      "24709/24709 [==============================] - 2s 100us/step - loss: 0.1182 - accuracy: 0.9682\n",
      "Epoch 5/5\n",
      "24709/24709 [==============================] - 3s 103us/step - loss: 0.0613 - accuracy: 0.9861\n",
      "2746/2746 [==============================] - 0s 62us/step\n",
      "Epoch 1/5\n",
      "24710/24710 [==============================] - 3s 114us/step - loss: 1.9099 - accuracy: 0.4367\n",
      "Epoch 2/5\n",
      "24710/24710 [==============================] - 2s 101us/step - loss: 0.5607 - accuracy: 0.8240\n",
      "Epoch 3/5\n",
      "24710/24710 [==============================] - 3s 102us/step - loss: 0.2563 - accuracy: 0.9213\n",
      "Epoch 4/5\n",
      "24710/24710 [==============================] - 3s 104us/step - loss: 0.1316 - accuracy: 0.9625\n",
      "Epoch 5/5\n",
      "24710/24710 [==============================] - 3s 102us/step - loss: 0.0767 - accuracy: 0.9812\n",
      "2745/2745 [==============================] - 0s 91us/step\n",
      "Epoch 1/5\n",
      "24710/24710 [==============================] - 3s 107us/step - loss: 1.9550 - accuracy: 0.4282\n",
      "Epoch 2/5\n",
      "24710/24710 [==============================] - 3s 103us/step - loss: 0.6471 - accuracy: 0.7952\n",
      "Epoch 3/5\n",
      "24710/24710 [==============================] - 2s 101us/step - loss: 0.3196 - accuracy: 0.9002\n",
      "Epoch 4/5\n",
      "24710/24710 [==============================] - 3s 104us/step - loss: 0.1692 - accuracy: 0.9524\n",
      "Epoch 5/5\n",
      "24710/24710 [==============================] - 3s 103us/step - loss: 0.1062 - accuracy: 0.9720\n",
      "2745/2745 [==============================] - 0s 73us/step\n",
      "Epoch 1/5\n",
      "24710/24710 [==============================] - 3s 109us/step - loss: 1.8884 - accuracy: 0.4514\n",
      "Epoch 2/5\n",
      "24710/24710 [==============================] - 3s 103us/step - loss: 0.5715 - accuracy: 0.8173\n",
      "Epoch 3/5\n",
      "24710/24710 [==============================] - 3s 103us/step - loss: 0.2737 - accuracy: 0.9158\n",
      "Epoch 4/5\n",
      "24710/24710 [==============================] - 3s 102us/step - loss: 0.1385 - accuracy: 0.9593\n",
      "Epoch 5/5\n",
      "24710/24710 [==============================] - 3s 102us/step - loss: 0.0924 - accuracy: 0.9752\n",
      "2745/2745 [==============================] - 0s 65us/step\n",
      "Epoch 1/5\n",
      "24710/24710 [==============================] - 3s 107us/step - loss: 1.9919 - accuracy: 0.4107\n",
      "Epoch 2/5\n",
      "24710/24710 [==============================] - 3s 102us/step - loss: 0.5146 - accuracy: 0.8422\n",
      "Epoch 3/5\n",
      "24710/24710 [==============================] - 2s 101us/step - loss: 0.2091 - accuracy: 0.9381\n",
      "Epoch 4/5\n",
      "24710/24710 [==============================] - 3s 101us/step - loss: 0.1040 - accuracy: 0.9720\n",
      "Epoch 5/5\n",
      "24710/24710 [==============================] - 3s 101us/step - loss: 0.0597 - accuracy: 0.9854\n",
      "2745/2745 [==============================] - 0s 61us/step\n",
      "Epoch 1/5\n",
      "24710/24710 [==============================] - 3s 107us/step - loss: 1.9339 - accuracy: 0.4238\n",
      "Epoch 2/5\n",
      "24710/24710 [==============================] - 3s 105us/step - loss: 0.6079 - accuracy: 0.8079\n",
      "Epoch 3/5\n",
      "24710/24710 [==============================] - 3s 102us/step - loss: 0.2762 - accuracy: 0.9163\n",
      "Epoch 4/5\n",
      "24710/24710 [==============================] - 3s 103us/step - loss: 0.1407 - accuracy: 0.9620\n",
      "Epoch 5/5\n",
      "24710/24710 [==============================] - 3s 104us/step - loss: 0.0806 - accuracy: 0.9803\n",
      "2745/2745 [==============================] - 0s 61us/step\n"
     ]
    }
   ],
   "source": [
    "### 10 fold cross validation ###\n",
    "\n",
    "# cross validation\n",
    "cross_val = cross_val_score(estimator = classifier,\n",
    "                           X = df_train_X,\n",
    "                           y = train_y,\n",
    "                           cv = 10)\n",
    "\n"
   ]
  },
  {
   "cell_type": "code",
   "execution_count": 18,
   "metadata": {},
   "outputs": [
    {
     "name": "stdout",
     "output_type": "stream",
     "text": [
      "The mean of the k fold accuracies is: 0.9986522793769836 and the variance is: 0.0013439093261746282\n"
     ]
    }
   ],
   "source": [
    "### results of cross validation ###\n",
    "\n",
    "# mean and variance\n",
    "mean = cross_val.mean()\n",
    "variance = cross_val.std()\n",
    "\n",
    "print('The mean of the k fold accuracies is:', mean, 'and the variance is:', variance)"
   ]
  },
  {
   "cell_type": "markdown",
   "metadata": {},
   "source": [
    "The cross validation shows an extremely high accuracy with low variance which is good. The accuracy of our new model fits within this accuracy and variance so we accept the model as being a good representation."
   ]
  },
  {
   "cell_type": "code",
   "execution_count": 19,
   "metadata": {},
   "outputs": [
    {
     "name": "stdout",
     "output_type": "stream",
     "text": [
      "27455/27455 [==============================] - 1s 46us/step\n"
     ]
    },
    {
     "data": {
      "text/plain": [
       "0.9995265007019043"
      ]
     },
     "execution_count": 19,
     "metadata": {},
     "output_type": "execute_result"
    }
   ],
   "source": [
    "### accuracy on train data ###\n",
    "\n",
    "classifier.score(df_train_X, train_y)"
   ]
  },
  {
   "cell_type": "code",
   "execution_count": 20,
   "metadata": {},
   "outputs": [
    {
     "name": "stdout",
     "output_type": "stream",
     "text": [
      "7172/7172 [==============================] - 0s 46us/step\n"
     ]
    },
    {
     "data": {
      "text/plain": [
       "0.9318181872367859"
      ]
     },
     "execution_count": 20,
     "metadata": {},
     "output_type": "execute_result"
    }
   ],
   "source": [
    "### accuracy on test data ###\n",
    "\n",
    "classifier.score(df_test_X, test_y)"
   ]
  },
  {
   "cell_type": "markdown",
   "metadata": {},
   "source": [
    "The accuracy of the train data and the test data are quite high. Now we will look to see where the model is going wrong on the test data to see if we can improve the model."
   ]
  },
  {
   "cell_type": "code",
   "execution_count": 24,
   "metadata": {},
   "outputs": [
    {
     "data": {
      "text/plain": [
       "<matplotlib.axes._subplots.AxesSubplot at 0x18be2c9ea08>"
      ]
     },
     "execution_count": 24,
     "metadata": {},
     "output_type": "execute_result"
    },
    {
     "data": {
      "image/png": "[encoded data removed]",
      "text/plain": [
       "<Figure size 2160x2160 with 2 Axes>"
      ]
     },
     "metadata": {
      "needs_background": "light"
     },
     "output_type": "display_data"
    }
   ],
   "source": [
    "### confusion matrix ###\n",
    "\n",
    "# predictions\n",
    "y_pred = classifier.predict(df_test_X)\n",
    "\n",
    "# confusion matrix\n",
    "cm = confusion_matrix(y_pred, df_test_y, np.arange(24))\n",
    "\n",
    "# plotting confusion matrix\n",
    "plt.figure(figsize = (30, 30))\n",
    "ax = plt.subplot()\n",
    "sns.heatmap(cm, annot = True, ax = ax)"
   ]
  },
  {
   "cell_type": "markdown",
   "metadata": {},
   "source": [
    "In general, we can see that most values are predicted correctly. We can see that class = 9 does not have any representation. It is because class = 9 refers to J which is a dynamic sign and was not taken pictures of.\n",
    "\n",
    "In the confusion matrix, values that have a large amount of false positives are signs that are quite similar. For example, class = 19 (S) is very similar to class = 12 (M). "
   ]
  },
  {
   "cell_type": "markdown",
   "metadata": {},
   "source": [
    "## Conclusion\n",
    "\n",
    "In conclusion, we believe that we have built a good model for the identification of the alphabet in ASL. A lot of the errors come from signs that are very similar to eachother. If we were to improve our model in the future, the following would need to be done: \n",
    "* test different batch sizes with a grid search to see if we are potentially stuck in a local minima\n",
    "* add the dynamic signs, J and Z, and have an image of a point in the sign that is unique"
   ]
  }
 ],
 "metadata": {
  "kernelspec": {
   "display_name": "Python 3",
   "language": "python",
   "name": "python3"
  },
  "language_info": {
   "codemirror_mode": {
    "name": "ipython",
    "version": 3
   },
   "file_extension": ".py",
   "mimetype": "text/x-python",
   "name": "python",
   "nbconvert_exporter": "python",
   "pygments_lexer": "ipython3",
   "version": "3.7.4"
  }
 },
 "nbformat": 4,
 "nbformat_minor": 4
}
